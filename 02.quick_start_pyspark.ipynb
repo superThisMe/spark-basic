{
 "cells": [
  {
   "cell_type": "code",
   "execution_count": 1,
   "metadata": {},
   "outputs": [],
   "source": [
    "# ghLog = spark.read.json(\"file:///home/hadoop/work/data-files/2015-03-01-0.json\")\n",
    "ghLog = spark.read.json(\"data-files/github-log/2015-03-01-0.json\")"
   ]
  },
  {
   "cell_type": "code",
   "execution_count": 2,
   "metadata": {},
   "outputs": [
    {
     "name": "stdout",
     "output_type": "stream",
     "text": [
      "17786\n"
     ]
    }
   ],
   "source": [
    "print(ghLog.count())"
   ]
  },
  {
   "cell_type": "code",
   "execution_count": null,
   "metadata": {},
   "outputs": [],
   "source": [
    "ghLog.show(5) # Data List 출력"
   ]
  },
  {
   "cell_type": "code",
   "execution_count": null,
   "metadata": {},
   "outputs": [],
   "source": [
    "ghLog.printSchema()"
   ]
  },
  {
   "cell_type": "code",
   "execution_count": 15,
   "metadata": {},
   "outputs": [
    {
     "data": {
      "text/plain": [
       "pyspark.sql.dataframe.DataFrame"
      ]
     },
     "execution_count": 15,
     "metadata": {},
     "output_type": "execute_result"
    }
   ],
   "source": [
    "type(ghLog)"
   ]
  },
  {
   "cell_type": "code",
   "execution_count": 3,
   "metadata": {},
   "outputs": [],
   "source": [
    "pushes = ghLog.filter(\"type = 'PushEvent'\")"
   ]
  },
  {
   "cell_type": "code",
   "execution_count": 4,
   "metadata": {},
   "outputs": [
    {
     "name": "stdout",
     "output_type": "stream",
     "text": [
      "8793\n"
     ]
    }
   ],
   "source": [
    "print(pushes.count())"
   ]
  },
  {
   "cell_type": "code",
   "execution_count": 5,
   "metadata": {},
   "outputs": [
    {
     "name": "stdout",
     "output_type": "stream",
     "text": [
      "+--------------------+--------------------+----------+--------------------+--------------------+------+--------------------+---------+\n",
      "|               actor|          created_at|        id|                 org|             payload|public|                repo|     type|\n",
      "+--------------------+--------------------+----------+--------------------+--------------------+------+--------------------+---------+\n",
      "|[https://avatars....|2015-03-01T00:00:00Z|2614896653|                null|[, 6dda286a3a1c25...|  true|[31481156, bezerr...|PushEvent|\n",
      "|[https://avatars....|2015-03-01T00:00:00Z|2614896654|                null|[, 6089ce1d78dc0a...|  true|[31475673, demian...|PushEvent|\n",
      "|[https://avatars....|2015-03-01T00:00:00Z|2614896663|                null|[, 3f55d3ea1fc0ce...|  true|[31481269, ricard...|PushEvent|\n",
      "|[https://avatars....|2015-03-01T00:00:00Z|2614896667|[https://avatars....|[, 15bf6c902557a3...|  true|[24902852, actora...|PushEvent|\n",
      "|[https://avatars....|2015-03-01T00:00:00Z|2614896668|                null|[, 95d1dccd3b63e6...|  true|[24292601, komasu...|PushEvent|\n",
      "+--------------------+--------------------+----------+--------------------+--------------------+------+--------------------+---------+\n",
      "only showing top 5 rows\n",
      "\n"
     ]
    }
   ],
   "source": [
    "pushes.show(5)"
   ]
  },
  {
   "cell_type": "code",
   "execution_count": null,
   "metadata": {},
   "outputs": [],
   "source": [
    "pushes.select(\"payload\").show(1, False)"
   ]
  },
  {
   "cell_type": "code",
   "execution_count": 8,
   "metadata": {},
   "outputs": [
    {
     "name": "stdout",
     "output_type": "stream",
     "text": [
      "+------------+-----+\n",
      "|       login|count|\n",
      "+------------+-----+\n",
      "|john-griffin|    1|\n",
      "|   digitized|    3|\n",
      "| theCodeBear|    1|\n",
      "|      WillHK|    1|\n",
      "|  sakuya3834|    1|\n",
      "+------------+-----+\n",
      "only showing top 5 rows\n",
      "\n"
     ]
    }
   ],
   "source": [
    "grouped = pushes.groupby(\"actor.login\").count()\n",
    "grouped.show(5)"
   ]
  },
  {
   "cell_type": "code",
   "execution_count": 10,
   "metadata": {},
   "outputs": [
    {
     "name": "stdout",
     "output_type": "stream",
     "text": [
      "+------------------+-----+\n",
      "|             login|count|\n",
      "+------------------+-----+\n",
      "|      greatfirebot|  192|\n",
      "|diversify-exp-user|  146|\n",
      "|     KenanSulayman|   72|\n",
      "|        manuelrp07|   45|\n",
      "|    mirror-updates|   42|\n",
      "+------------------+-----+\n",
      "only showing top 5 rows\n",
      "\n"
     ]
    }
   ],
   "source": [
    "ordered = grouped.orderBy(grouped[\"count\"].desc())\n",
    "ordered.show(5)"
   ]
  },
  {
   "cell_type": "code",
   "execution_count": 11,
   "metadata": {},
   "outputs": [
    {
     "data": {
      "text/plain": [
       "pyspark.sql.column.Column"
      ]
     },
     "execution_count": 11,
     "metadata": {},
     "output_type": "execute_result"
    }
   ],
   "source": [
    "type(grouped[\"count\"])"
   ]
  },
  {
   "cell_type": "code",
   "execution_count": null,
   "metadata": {},
   "outputs": [],
   "source": [
    "# case RDD"
   ]
  },
  {
   "cell_type": "code",
   "execution_count": 12,
   "metadata": {},
   "outputs": [],
   "source": [
    "employees = sc.textFile(\"data-files/github-log/ghEmployees.txt\")"
   ]
  },
  {
   "cell_type": "code",
   "execution_count": 13,
   "metadata": {},
   "outputs": [
    {
     "name": "stdout",
     "output_type": "stream",
     "text": [
      "207\n"
     ]
    }
   ],
   "source": [
    "print(employees.count())"
   ]
  },
  {
   "cell_type": "code",
   "execution_count": 14,
   "metadata": {},
   "outputs": [
    {
     "data": {
      "text/plain": [
       "pyspark.rdd.RDD"
      ]
     },
     "execution_count": 14,
     "metadata": {},
     "output_type": "execute_result"
    }
   ],
   "source": [
    "type(employees)"
   ]
  },
  {
   "cell_type": "code",
   "execution_count": null,
   "metadata": {},
   "outputs": [],
   "source": []
  },
  {
   "cell_type": "code",
   "execution_count": 16,
   "metadata": {},
   "outputs": [
    {
     "data": {
      "text/plain": [
       "pyspark.sql.dataframe.DataFrame"
      ]
     },
     "execution_count": 16,
     "metadata": {},
     "output_type": "execute_result"
    }
   ],
   "source": [
    "type(ordered)"
   ]
  },
  {
   "cell_type": "code",
   "execution_count": 17,
   "metadata": {},
   "outputs": [],
   "source": [
    "ordered.write.format(\"json\").save(\"data-files/github-log/quick_start_result\")"
   ]
  },
  {
   "cell_type": "code",
   "execution_count": 18,
   "metadata": {},
   "outputs": [],
   "source": [
    "repartitioned_ordered = ordered.repartition(1)"
   ]
  },
  {
   "cell_type": "code",
   "execution_count": 19,
   "metadata": {},
   "outputs": [],
   "source": [
    "repartitioned_ordered.write.format(\"json\").save(\"data-files/github-log/quick_start_result_2\")"
   ]
  },
  {
   "cell_type": "code",
   "execution_count": null,
   "metadata": {},
   "outputs": [],
   "source": []
  }
 ],
 "metadata": {
  "kernelspec": {
   "display_name": "Python 3",
   "language": "python",
   "name": "python3"
  },
  "language_info": {
   "codemirror_mode": {
    "name": "ipython",
    "version": 3
   },
   "file_extension": ".py",
   "mimetype": "text/x-python",
   "name": "python",
   "nbconvert_exporter": "python",
   "pygments_lexer": "ipython3",
   "version": "3.6.10"
  }
 },
 "nbformat": 4,
 "nbformat_minor": 4
}
